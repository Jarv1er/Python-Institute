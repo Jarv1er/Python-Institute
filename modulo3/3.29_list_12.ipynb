{
 "cells": [
  {
   "attachments": {},
   "cell_type": "markdown",
   "metadata": {},
   "source": [
    "### Modulo 3 - Puntos Clave Listas"
   ]
  },
  {
   "attachments": {},
   "cell_type": "markdown",
   "metadata": {},
   "source": [
    "1. Si tienes una lista list_1, y la siguiente asignación: list_2 = list_1 esto no hace una copia de la lista list_1, pero hace que las variables list_1 y list_2 apunten a la misma lista en la memoria. Por ejemplo:\n",
    "\n"
   ]
  },
  {
   "cell_type": "code",
   "execution_count": 1,
   "metadata": {},
   "outputs": [
    {
     "name": "stdout",
     "output_type": "stream",
     "text": [
      "['carro', 'bicicleta', 'motor']\n",
      "['bicicleta', 'motor']\n"
     ]
    }
   ],
   "source": [
    "vehicles_one = ['carro', 'bicicleta', 'motor']\n",
    "print(vehicles_one) # salida: [carro', 'bicicleta', 'motor']\n",
    "\n",
    "vehicles_two = vehicles_one\n",
    "del vehicles_one[0] # elimina 'carro'\n",
    "print(vehicles_two) # salida: ['bicicleta', 'motor']\n"
   ]
  },
  {
   "attachments": {},
   "cell_type": "markdown",
   "metadata": {},
   "source": [
    "2. Si deseas copiar una lista o parte de la lista, puedes hacerlo haciendo uso de rebanadas:"
   ]
  },
  {
   "cell_type": "code",
   "execution_count": 3,
   "metadata": {},
   "outputs": [
    {
     "name": "stdout",
     "output_type": "stream",
     "text": [
      "['rojo', 'verde']\n"
     ]
    }
   ],
   "source": [
    "colors = ['rojo', 'verde', 'naranja']\n",
    "\n",
    "copy_whole_colors = colors[:]  # copia la lista entera\n",
    "copy_part_colors = colors[0:2]  # copia parte de la lista\n",
    "print(copy_part_colors)\n"
   ]
  },
  {
   "attachments": {},
   "cell_type": "markdown",
   "metadata": {},
   "source": [
    "3. También puede utilizar índices negativos para hacer uso de rebanadas. Por ejemplo:"
   ]
  },
  {
   "cell_type": "code",
   "execution_count": 4,
   "metadata": {},
   "outputs": [
    {
     "name": "stdout",
     "output_type": "stream",
     "text": [
      "['C', 'D']\n"
     ]
    }
   ],
   "source": [
    "sample_list = [\"A\", \"B\", \"C\", \"D\", \"E\"]\n",
    "new_list = sample_list[2:-1]\n",
    "print(new_list)  # outputs: ['C', 'D']"
   ]
  },
  {
   "attachments": {},
   "cell_type": "markdown",
   "metadata": {},
   "source": [
    "4. Los parámetros start y end son opcionales al partir en rebanadas una lista: list[start:end], por ejemplo:"
   ]
  },
  {
   "cell_type": "code",
   "execution_count": 5,
   "metadata": {},
   "outputs": [
    {
     "name": "stdout",
     "output_type": "stream",
     "text": [
      "[3, 4, 5]\n",
      "[1, 2]\n",
      "[4, 5]\n"
     ]
    }
   ],
   "source": [
    "my_list = [1, 2, 3, 4, 5]\n",
    "slice_one = my_list[2: ]\n",
    "slice_two = my_list[ :2]\n",
    "slice_three = my_list[-2: ]\n",
    "\n",
    "print(slice_one)  # salida: [3, 4, 5]\n",
    "print(slice_two)  # salida: [1, 2]\n",
    "print(slice_three)  # salida: [4, 5]"
   ]
  },
  {
   "attachments": {},
   "cell_type": "markdown",
   "metadata": {},
   "source": [
    "5. Puedes eliminar rebanadas utilizando la instrucción del:"
   ]
  },
  {
   "cell_type": "code",
   "execution_count": 6,
   "metadata": {},
   "outputs": [
    {
     "name": "stdout",
     "output_type": "stream",
     "text": [
      "[3, 4, 5]\n",
      "[]\n"
     ]
    }
   ],
   "source": [
    "my_list = [1, 2, 3, 4, 5]\n",
    "del my_list[0:2]\n",
    "print(my_list)  # salida: [3, 4, 5]\n",
    "\n",
    "del my_list[:]\n",
    "print(my_list)  # delimina el contenido de la lista, genera: []"
   ]
  },
  {
   "attachments": {},
   "cell_type": "markdown",
   "metadata": {},
   "source": [
    "6. Puedes probar si algunos elementos existen en una lista o no utilizando las palabras clave in y not in, por ejemplo:"
   ]
  },
  {
   "cell_type": "code",
   "execution_count": 7,
   "metadata": {},
   "outputs": [
    {
     "name": "stdout",
     "output_type": "stream",
     "text": [
      "True\n",
      "True\n",
      "False\n"
     ]
    }
   ],
   "source": [
    "my_list = [\"A\", \"B\", 1, 2]\n",
    "\n",
    "print(\"A\" in my_list)  # salida: True\n",
    "print(\"C\" not in my_list)  # salida: True\n",
    "print(2 not in my_list)  # salida: False\n"
   ]
  },
  {
   "cell_type": "code",
   "execution_count": 8,
   "metadata": {},
   "outputs": [
    {
     "name": "stdout",
     "output_type": "stream",
     "text": [
      "['C']\n"
     ]
    }
   ],
   "source": [
    "# Ejercicio 1\n",
    "# ¿Cuál es la salida del siguiente fragmento de código?\n",
    "\n",
    "list_1 = [\"A\", \"B\", \"C\"]\n",
    "list_2 = list_1\n",
    "list_3 = list_2\n",
    "\n",
    "del list_1[0]\n",
    "del list_2[0]\n",
    "\n",
    "print(list_3)\n",
    "\n",
    "# C"
   ]
  },
  {
   "cell_type": "code",
   "execution_count": 9,
   "metadata": {},
   "outputs": [
    {
     "name": "stdout",
     "output_type": "stream",
     "text": [
      "['B', 'C']\n"
     ]
    }
   ],
   "source": [
    "# Ejercicio 2\n",
    "# ¿Cuál es la salida del siguiente fragmento de código?\n",
    "\n",
    "list_1 = [\"A\", \"B\", \"C\"]\n",
    "list_2 = list_1\n",
    "list_3 = list_2\n",
    "\n",
    "del list_1[0]\n",
    "del list_2\n",
    "\n",
    "print(list_3)\n",
    "\n",
    "# B C"
   ]
  },
  {
   "cell_type": "code",
   "execution_count": 10,
   "metadata": {},
   "outputs": [
    {
     "name": "stdout",
     "output_type": "stream",
     "text": [
      "[]\n"
     ]
    }
   ],
   "source": [
    "# Ejercicio 3\n",
    "# ¿Cuál es la salida del siguiente fragmento de código?\n",
    "\n",
    "list_1 = [\"A\", \"B\", \"C\"]\n",
    "list_2 = list_1\n",
    "list_3 = list_2\n",
    "\n",
    "del list_1[0]\n",
    "del list_2[:]\n",
    "\n",
    "print(list_3)\n",
    "\n",
    "# []"
   ]
  },
  {
   "cell_type": "code",
   "execution_count": 12,
   "metadata": {},
   "outputs": [
    {
     "name": "stdout",
     "output_type": "stream",
     "text": [
      "['A', 'B', 'C']\n"
     ]
    }
   ],
   "source": [
    "# Ejercicio 4\n",
    "# ¿Cuál es la salida del siguiente fragmento de código?\n",
    "\n",
    "list_1 = [\"A\", \"B\", \"C\"]\n",
    "list_2 = list_1[:]\n",
    "list_3 = list_2[:]\n",
    "\n",
    "del list_1[0]\n",
    "del list_2[0]\n",
    "\n",
    "print(list_3)\n",
    "\n",
    "# A, B, C"
   ]
  },
  {
   "cell_type": "code",
   "execution_count": 13,
   "metadata": {},
   "outputs": [
    {
     "name": "stdout",
     "output_type": "stream",
     "text": [
      "True\n",
      "True\n",
      "True\n",
      "False\n"
     ]
    }
   ],
   "source": [
    "# Ejercicio 5\n",
    "# Inserta in o not in en lugar de ??? para que el código genere el resultado esperado.\n",
    "# my_list = [1, 2, \"in\", True, \"ABC\"]\n",
    "\n",
    "# print(1 ??? my_list)  # salida True\n",
    "# print(\"A\" ??? my_list)  # salida True\n",
    "# print(3 ??? my_list)  # salida True\n",
    "# print(False ??? my_list)  # salida False\n",
    "\n",
    "my_list = [1, 2, \"in\", True, \"ABC\"]\n",
    "\n",
    "print(1 in my_list)  # salida True\n",
    "print(\"A\" not in my_list)  # salida True\n",
    "print(3 not in my_list)  # salida True\n",
    "print(False in my_list)  # salida False\n",
    "\n"
   ]
  }
 ],
 "metadata": {
  "kernelspec": {
   "display_name": "Python 3",
   "language": "python",
   "name": "python3"
  },
  "language_info": {
   "codemirror_mode": {
    "name": "ipython",
    "version": 3
   },
   "file_extension": ".py",
   "mimetype": "text/x-python",
   "name": "python",
   "nbconvert_exporter": "python",
   "pygments_lexer": "ipython3",
   "version": "3.10.6"
  },
  "orig_nbformat": 4
 },
 "nbformat": 4,
 "nbformat_minor": 2
}
