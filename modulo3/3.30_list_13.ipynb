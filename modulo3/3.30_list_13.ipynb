{
 "cells": [
  {
   "attachments": {},
   "cell_type": "markdown",
   "metadata": {},
   "source": [
    "El acceso al campo seleccionado del tablero requiere dos índices: el primero selecciona la fila; \n",
    "el segundo: el número del campo dentro de la fila, el cual es un número de columna.\n",
    "\n",
    "Echa un vistazo al tablero de ajedrez. Cada campo contiene un par de índices que se deben dar \n",
    "para acceder al contenido del campo:"
   ]
  },
  {
   "cell_type": "code",
   "execution_count": 4,
   "metadata": {
    "vscode": {
     "languageId": "html"
    }
   },
   "outputs": [
    {
     "ename": "SyntaxError",
     "evalue": "invalid syntax (4016984090.py, line 1)",
     "output_type": "error",
     "traceback": [
      "\u001b[0;36m  Cell \u001b[0;32mIn[4], line 1\u001b[0;36m\u001b[0m\n\u001b[0;31m    <img src=\"https://edube.org/uploads/media/default/0001/02/PE1_source_file_HUN_3.7.1.3_HUN.png\" alt=\"\">\u001b[0m\n\u001b[0m    ^\u001b[0m\n\u001b[0;31mSyntaxError\u001b[0m\u001b[0;31m:\u001b[0m invalid syntax\n"
     ]
    }
   ],
   "source": [
    "<img src=\"https://edube.org/uploads/media/default/0001/02/PE1_source_file_HUN_3.7.1.3_HUN.png\" alt=\"\">"
   ]
  },
  {
   "cell_type": "code",
   "execution_count": 7,
   "metadata": {},
   "outputs": [
    {
     "name": "stdout",
     "output_type": "stream",
     "text": [
      "[['TORRE', 'CABALLO', 'ALFIL', 'REINA', 'REY', 'ALFIL', 'CABALLO', 'TORRE'], ['PEON', 'PEON', 'PEON', 'PEON', 'PEON', 'PEON', 'PEON', 'PEON'], ['-', '-', '-', '-', '-', '-', '-', '-'], ['-', '-', '-', '-', '-', '-', '-', '-'], ['-', '-', '-', '-', '-', '-', '-', '-'], ['-', '-', '-', '-', '-', '-', '-', '-'], ['PEON', 'PEON', 'PEON', 'PEON', 'PEON', 'PEON', 'PEON', 'PEON'], ['TORRE', 'CABALLO', 'ALFIL', 'REINA', 'REY', 'ALFIL', 'CABALLO', 'TORRE']]\n"
     ]
    }
   ],
   "source": [
    "EMPTY = \"-\"\n",
    "PAWN = \"PEON\"\n",
    "ROOK = \"TORRE\"\n",
    "KNIGHT = \"CABALLO\"\n",
    "BISHOP = \"ALFIL\"\n",
    "QUEEN = \"REINA\"\n",
    "KING = \"REY\"\n",
    "board = []\n",
    "\n",
    "for i in range(8):\n",
    "    row = [EMPTY for i in range(8)]\n",
    "    board.append(row)\n",
    "\n",
    "# Peones\n",
    "board[1][0] = PAWN\n",
    "board[1][1] = PAWN\n",
    "board[1][2] = PAWN\n",
    "board[1][3] = PAWN\n",
    "board[1][4] = PAWN\n",
    "board[1][5] = PAWN\n",
    "board[1][6] = PAWN\n",
    "board[1][7] = PAWN\n",
    "\n",
    "board[6][0] = PAWN\n",
    "board[6][1] = PAWN\n",
    "board[6][2] = PAWN\n",
    "board[6][3] = PAWN\n",
    "board[6][4] = PAWN\n",
    "board[6][5] = PAWN\n",
    "board[6][6] = PAWN\n",
    "board[6][7] = PAWN\n",
    "\n",
    "# Torres\n",
    "board[0][0] = ROOK\n",
    "board[0][7] = ROOK\n",
    "board[7][0] = ROOK\n",
    "board[7][7] = ROOK\n",
    "\n",
    "# Caballos\n",
    "board[0][1] = KNIGHT\n",
    "board[0][6] = KNIGHT\n",
    "board[7][1] = KNIGHT\n",
    "board[7][6] = KNIGHT\n",
    "\n",
    "# Alfil\n",
    "board[0][2] = BISHOP\n",
    "board[0][5] = BISHOP\n",
    "board[7][2] = BISHOP\n",
    "board[7][5] = BISHOP\n",
    "\n",
    "# Reina\n",
    "board[0][3] = QUEEN\n",
    "board[7][3] = QUEEN\n",
    "\n",
    "# Rey\n",
    "board[0][4] = KING\n",
    "board[7][4] = KING\n",
    "\n",
    "print(board)"
   ]
  }
 ],
 "metadata": {
  "kernelspec": {
   "display_name": "Python 3",
   "language": "python",
   "name": "python3"
  },
  "language_info": {
   "codemirror_mode": {
    "name": "ipython",
    "version": 3
   },
   "file_extension": ".py",
   "mimetype": "text/x-python",
   "name": "python",
   "nbconvert_exporter": "python",
   "pygments_lexer": "ipython3",
   "version": "3.10.6"
  },
  "orig_nbformat": 4
 },
 "nbformat": 4,
 "nbformat_minor": 2
}
